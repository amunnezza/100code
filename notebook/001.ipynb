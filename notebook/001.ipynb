{
 "cells": [
  {
   "cell_type": "code",
   "execution_count": 2,
   "metadata": {},
   "outputs": [],
   "source": [
    "import pandas as pd\n",
    "import numpy as np\n",
    "data = pd.read_csv('titanic3.csv')"
   ]
  },
  {
   "cell_type": "code",
   "execution_count": 9,
   "metadata": {},
   "outputs": [
    {
     "name": "stdout",
     "output_type": "stream",
     "text": [
      "<bound method NDFrame.tail of 0                         Allen, Miss. Elisabeth Walton\n",
      "1                        Allison, Master. Hudson Trevor\n",
      "2                          Allison, Miss. Helen Loraine\n",
      "3                  Allison, Mr. Hudson Joshua Creighton\n",
      "4       Allison, Mrs. Hudson J C (Bessie Waldo Daniels)\n",
      "                             ...                       \n",
      "1304                               Zabour, Miss. Hileni\n",
      "1305                              Zabour, Miss. Thamine\n",
      "1306                          Zakarian, Mr. Mapriededer\n",
      "1307                                Zakarian, Mr. Ortin\n",
      "1308                                 Zimmerman, Mr. Leo\n",
      "Name: name, Length: 1309, dtype: object>\n"
     ]
    }
   ],
   "source": [
    "print (data[\"name\"].tail)\n",
    "#print (data[\"survived\"])"
   ]
  }
 ],
 "metadata": {
  "kernelspec": {
   "display_name": ".venv",
   "language": "python",
   "name": "python3"
  },
  "language_info": {
   "codemirror_mode": {
    "name": "ipython",
    "version": 3
   },
   "file_extension": ".py",
   "mimetype": "text/x-python",
   "name": "python",
   "nbconvert_exporter": "python",
   "pygments_lexer": "ipython3",
   "version": "3.9.2"
  },
  "orig_nbformat": 4
 },
 "nbformat": 4,
 "nbformat_minor": 2
}
