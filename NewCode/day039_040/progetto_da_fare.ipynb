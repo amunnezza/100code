{
 "cells": [
  {
   "cell_type": "code",
   "execution_count": null,
   "metadata": {},
   "outputs": [],
   "source": []
  },
  {
   "cell_type": "markdown",
   "metadata": {},
   "source": [
    "First I create a Google Sheet where I put a a series of couple\n",
    "Destination - Higher Price I'm willing to pay\n",
    "\n",
    "Then a make a **automatic search flight** of the destination in the Sheet for \n",
    "an amount of future time\n",
    "\n",
    "Compare and if price is equal or less the one desired the program should signal me\n",
    "via Twilio SMS"
   ]
  }
 ],
 "metadata": {
  "language_info": {
   "name": "python"
  },
  "orig_nbformat": 4
 },
 "nbformat": 4,
 "nbformat_minor": 2
}
