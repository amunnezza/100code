{
 "cells": [
  {
   "cell_type": "code",
   "execution_count": 3,
   "id": "626d1eba-8b3a-4491-bdb9-1793993e3ec4",
   "metadata": {},
   "outputs": [
    {
     "name": "stdout",
     "output_type": "stream",
     "text": [
      "variable enemies INSIDE the function is 2\n",
      "variable enemies OUTSIDE the function is 1\n"
     ]
    }
   ],
   "source": [
    "enemies = 1\n",
    "def increase_enemies():\n",
    "    enemies = 2\n",
    "    print (f\"variable enemies INSIDE the function is {enemies}\")\n",
    "increase_enemies()\n",
    "print (f\"variable enemies OUTSIDE the function is {enemies}\")\n"
   ]
  },
  {
   "cell_type": "markdown",
   "id": "604dbdeb-4c44-4761-9896-d5675b5a8ec4",
   "metadata": {},
   "source": [
    "Proviamo a vedere qualcosa sul discorso dello scope delle variabili. Dall esempio sopra si vede che la variabile enemies è visibile dalla funzione ovvero **è nel suo scope** ma gli viene passata '**una copia**' mentre il valore originale fuori dal recinto della funzione non viene toccato.  "
   ]
  },
  {
   "cell_type": "code",
   "execution_count": 4,
   "id": "f75c82d8-4255-4640-ba88-bf2aa0ec9a70",
   "metadata": {},
   "outputs": [
    {
     "name": "stdout",
     "output_type": "stream",
     "text": [
      "potion strenght INSIDE the function is 4\n"
     ]
    },
    {
     "ename": "NameError",
     "evalue": "name 'potion_strenght' is not defined",
     "output_type": "error",
     "traceback": [
      "\u001b[1;31m---------------------------------------------------------------------------\u001b[0m",
      "\u001b[1;31mNameError\u001b[0m                                 Traceback (most recent call last)",
      "Cell \u001b[1;32mIn[4], line 6\u001b[0m\n\u001b[0;32m      3\u001b[0m     \u001b[38;5;28mprint\u001b[39m (\u001b[38;5;124mf\u001b[39m\u001b[38;5;124m\"\u001b[39m\u001b[38;5;124mpotion strenght INSIDE the function is \u001b[39m\u001b[38;5;132;01m{\u001b[39;00mpotion_strenght\u001b[38;5;132;01m}\u001b[39;00m\u001b[38;5;124m\"\u001b[39m)\n\u001b[0;32m      4\u001b[0m strenght_potion()\n\u001b[1;32m----> 6\u001b[0m \u001b[38;5;28mprint\u001b[39m (\u001b[43mpotion_strenght\u001b[49m)\n",
      "\u001b[1;31mNameError\u001b[0m: name 'potion_strenght' is not defined"
     ]
    }
   ],
   "source": [
    "def strenght_potion():\n",
    "    potion_strenght = 4\n",
    "    print (f\"potion strenght INSIDE the function is {potion_strenght}\")\n",
    "strenght_potion()\n",
    "\n",
    "print (potion_strenght)\n"
   ]
  },
  {
   "cell_type": "markdown",
   "id": "7b425f3c-fceb-4a65-aa9a-a286214b337f",
   "metadata": {},
   "source": [
    "SCOPE:\n",
    "Nota che potion_strenght come variabile viene definita all'interno della funzione ed **esiste solo li**\n",
    "Se provo ad usarla al difuori della funzione ho NameError perchè appunto lo scope della variabile è solo interna alla funzione\n",
    "Lo stesso discorso vale anche per le funzioni. Se definite all'interno di una funzione sono richiamabili solo nel local scope della funzione.\n"
   ]
  },
  {
   "cell_type": "code",
   "execution_count": null,
   "id": "0fdfec56-0cd0-4d92-8135-6a6874a03e76",
   "metadata": {},
   "outputs": [],
   "source": [
    "Informa che il discorso dello scope è legato al **namespace** in pratica partendo dal root del codice che di per se è gia un namespace,\n",
    "qualsiasi cosa abbia un nome (esempio maggiore è una funzione) in pratica crea un namespace e tutte le cose nominate dentro quel namespace sono \n",
    "a lui visibilie e accessibili.\n",
    "Posso avere namespace innestati ( ad esempio una funzione1 definita dentro una funzione2 creerà un namespace di funzione1 che si trova all interno del namespace di funzione2\n",
    "\n",
    "funzione2 Namespace\n",
    "    --funzione1 Namespace\n",
    "**In sostanza a seconda del namespace a qui appartiene stabilisce accessibilità e valore di variabili e funzioni**\n",
    "Osserva anche che non esiste un **BLOCK SCOPE** ovvero se ad esempio"
   ]
  },
  {
   "cell_type": "code",
   "execution_count": null,
   "id": "f3e29bb3-7c26-4493-9624-fcf84319fb90",
   "metadata": {},
   "outputs": [],
   "source": [
    "if 3 > 2 :\n",
    "    variabile1 = [3, 2]\n",
    "    #nono vale il block scope ovvero la variable1 è visibile al nameSpace nel quale si trova \n",
    "    #la if \n",
    "    "
   ]
  },
  {
   "cell_type": "markdown",
   "id": "69ccf3b4-d83f-4acc-91f7-9a2685af4c19",
   "metadata": {},
   "source": [
    "Osserva che in global scope (lo scope di root) potrei avere interesse ad avere una variabile che "
   ]
  }
 ],
 "metadata": {
  "kernelspec": {
   "display_name": "Python 3 (ipykernel)",
   "language": "python",
   "name": "python3"
  },
  "language_info": {
   "codemirror_mode": {
    "name": "ipython",
    "version": 3
   },
   "file_extension": ".py",
   "mimetype": "text/x-python",
   "name": "python",
   "nbconvert_exporter": "python",
   "pygments_lexer": "ipython3",
   "version": "3.10.9"
  }
 },
 "nbformat": 4,
 "nbformat_minor": 5
}
