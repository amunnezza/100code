{
 "cells": [
  {
   "cell_type": "code",
   "execution_count": 1,
   "id": "626d1eba-8b3a-4491-bdb9-1793993e3ec4",
   "metadata": {},
   "outputs": [
    {
     "name": "stdout",
     "output_type": "stream",
     "text": [
      "variable enemies INSIDE the function is 2\n",
      "variable enemies OUTSIDE the function is 1\n"
     ]
    }
   ],
   "source": [
    "enemies = 1\n",
    "def increase_enemies():\n",
    "    enemies = 2\n",
    "    print (f\"variable enemies INSIDE the function is {enemies}\")\n",
    "increase_enemies()\n",
    "print (f\"variable enemies OUTSIDE the function is {enemies}\")\n"
   ]
  },
  {
   "cell_type": "markdown",
   "id": "604dbdeb-4c44-4761-9896-d5675b5a8ec4",
   "metadata": {},
   "source": [
    "Proviamo a vedere qualcosa sul discorso dello scope delle variabili. Dall esempio sopra si vede che la variabile enemies è visibile dalla funzione ovvero **è nel suo scope** ma gli viene passata '**una copia**' mentre il valore originale fuori dal recinto della funzione non viene toccato.  "
   ]
  },
  {
   "cell_type": "code",
   "execution_count": 2,
   "id": "f75c82d8-4255-4640-ba88-bf2aa0ec9a70",
   "metadata": {},
   "outputs": [
    {
     "name": "stdout",
     "output_type": "stream",
     "text": [
      "potion strenght INSIDE the function is 4\n"
     ]
    },
    {
     "ename": "NameError",
     "evalue": "name 'potion_strenght' is not defined",
     "output_type": "error",
     "traceback": [
      "\u001b[1;31m---------------------------------------------------------------------------\u001b[0m",
      "\u001b[1;31mNameError\u001b[0m                                 Traceback (most recent call last)",
      "Cell \u001b[1;32mIn[2], line 6\u001b[0m\n\u001b[0;32m      3\u001b[0m     \u001b[39mprint\u001b[39m (\u001b[39mf\u001b[39m\u001b[39m\"\u001b[39m\u001b[39mpotion strenght INSIDE the function is \u001b[39m\u001b[39m{\u001b[39;00mpotion_strenght\u001b[39m}\u001b[39;00m\u001b[39m\"\u001b[39m)\n\u001b[0;32m      4\u001b[0m strenght_potion()\n\u001b[1;32m----> 6\u001b[0m \u001b[39mprint\u001b[39m (potion_strenght)\n",
      "\u001b[1;31mNameError\u001b[0m: name 'potion_strenght' is not defined"
     ]
    }
   ],
   "source": [
    "\n",
    "def strenght_potion():\n",
    "    potion_strenght = 4\n",
    "    print (f\"potion strenght INSIDE the function is {potion_strenght}\")\n",
    "strenght_potion()\n",
    "\n",
    "print (potion_strenght)\n"
   ]
  },
  {
   "cell_type": "markdown",
   "id": "7b425f3c-fceb-4a65-aa9a-a286214b337f",
   "metadata": {},
   "source": [
    "SCOPE:\n",
    "Nota che potion_strenght come variabile viene definita all'interno della funzione ed **esiste solo li**\n",
    "Se provo ad usarla al difuori della funzione ho NameError perchè appunto lo scope della variabile è solo interna alla funzione\n",
    "Lo stesso discorso vale anche per le funzioni. Se definite all'interno di una funzione sono richiamabili solo nel local scope della funzione.\n"
   ]
  },
  {
   "cell_type": "markdown",
   "id": "0fdfec56-0cd0-4d92-8135-6a6874a03e76",
   "metadata": {},
   "source": [
    "Informa che il discorso dello scope è legato al **namespace** in pratica partendo dal root del codice che di per se è gia un namespace,\n",
    "qualsiasi cosa abbia un nome (esempio maggiore è una funzione) in pratica crea un namespace e tutte le cose nominate dentro quel namespace sono \n",
    "a lui visibilie e accessibili.\n",
    "Posso avere namespace innestati ( ad esempio una funzione1 definita dentro una funzione2 creerà un namespace di funzione1 che si trova all interno del namespace di funzione2\n",
    "\n",
    "funzione2 Namespace\n",
    "    --funzione1 Namespace\n",
    "**In sostanza a seconda del namespace a qui appartiene stabilisce accessibilità e valore di variabili e funzioni**\n",
    "Osserva anche che non esiste un **BLOCK SCOPE** ovvero se ad esempio"
   ]
  },
  {
   "cell_type": "code",
   "execution_count": 3,
   "id": "f3e29bb3-7c26-4493-9624-fcf84319fb90",
   "metadata": {},
   "outputs": [],
   "source": [
    "if 3 > 2 :\n",
    "    variabile1 = [3, 2]\n",
    "    #nono vale il block scope ovvero la variable1 è visibile al nameSpace nel quale si trova \n",
    "    #la if \n",
    "    "
   ]
  },
  {
   "cell_type": "markdown",
   "id": "69ccf3b4-d83f-4acc-91f7-9a2685af4c19",
   "metadata": {},
   "source": [
    "Osserva che in global scope (lo scope di root) potrei avere interesse ad avere una variabile che sia modificabile all'interno di una funzione quindi siamo0 nel concetto di MODYFING GLOBAL SCOPE VARIABLE"
   ]
  },
  {
   "cell_type": "code",
   "execution_count": 4,
   "id": "2a53b944-2e59-4cc5-ba33-3550c9b2056f",
   "metadata": {},
   "outputs": [
    {
     "name": "stdout",
     "output_type": "stream",
     "text": [
      "variable enemies declared global  INSIDE the function is 2\n",
      "variable enemies OUTSIDE the function is 2\n"
     ]
    }
   ],
   "source": [
    "#SUPPONIAMO DI VOLER CAMBIARE LA VARIABILE enemies E SI FA CON LA PAROLA CHIAVE global\n",
    "enemies = 1\n",
    "def increase_enemies():\n",
    "    global enemies #dichiaro variabile dicendo che è globale quindi visibile a tutti anche \n",
    "                    ##dentro la funzione\n",
    "    enemies +=1\n",
    "    print (f\"variable enemies declared global  INSIDE the function is {enemies}\")\n",
    "increase_enemies()\n",
    "print (f\"variable enemies OUTSIDE the function is {enemies}\")\n"
   ]
  },
  {
   "cell_type": "markdown",
   "id": "3126da60-bd16-4147-a7d1-257cf2ecebf1",
   "metadata": {},
   "source": [
    "Osserviamo che in generale questo uso di global è in genere **sconsigliato**"
   ]
  },
  {
   "cell_type": "code",
   "execution_count": 5,
   "id": "903c69dd-5d07-4dda-a2fd-1dfe0a83eea8",
   "metadata": {},
   "outputs": [
    {
     "name": "stdout",
     "output_type": "stream",
     "text": [
      "variable enemiesINSIDE the function is 1\n",
      "variable enemies OUTSIDE the function is 2\n"
     ]
    }
   ],
   "source": [
    "#IN GENERALE UN SISTEMA MIGLIORE PER MODIFICARE UNA VARIABILE global E'\n",
    "enemies = 1\n",
    "def increase_enemies():\n",
    "    print (f\"variable enemiesINSIDE the function is {enemies}\")\n",
    "    return enemies +1 #questo è chiave perchè ritorno il valore e posso assegnare il \n",
    "                      ##valore modificato alla variabile locale e quindi\n",
    "enemies = increase_enemies()\n",
    "print (f\"variable enemies OUTSIDE the function is {enemies}\")"
   ]
  },
  {
   "cell_type": "markdown",
   "id": "ec3e7a3d-3db7-48d0-a6bc-b3cb488cc361",
   "metadata": {},
   "source": [
    "Ora anche se di solito sconsigliato usare global scope, spesso sono incredibilmente utili nel caso si vogliano \n",
    "usare **GLOBAL CONSTANT** come ad esempio un URL  o PI. **per convenzioni le global constant sono tutte in maiuscolo** \n",
    "Per esempio"
   ]
  },
  {
   "cell_type": "code",
   "execution_count": 1,
   "id": "6ad53bdc-6145-40ea-b4eb-b2210d6c5d95",
   "metadata": {},
   "outputs": [
    {
     "name": "stdout",
     "output_type": "stream",
     "text": [
      "l'area di un cerchio di raggio 2 è 12.566\n"
     ]
    }
   ],
   "source": [
    "PI = 3.1415\n",
    "URL = \"https:\\\\www.google.com\"\n",
    "TWITTER_HANDLE = \"@lucianociotola\"\n",
    "\n",
    "def circle_area (raggio):\n",
    "    area = raggio*raggio*PI\n",
    "    \n",
    "    return area\n",
    "area = circle_area(2)\n",
    "print (f\"l'area di un cerchio di raggio 2 è {area}\")\n",
    "\n"
   ]
  },
  {
   "cell_type": "code",
   "execution_count": null,
   "id": "5feb82a6-c284-4cc4-a39e-3decdb39b26a",
   "metadata": {},
   "outputs": [],
   "source": []
  },
  {
   "cell_type": "code",
   "execution_count": 3,
   "id": "f1cb0d9e-2f1e-4e15-b53b-aba40546c3f5",
   "metadata": {},
   "outputs": [
    {
     "name": "stdout",
     "output_type": "stream",
     "text": [
      "variable enemies INSIDE the function is 2\n",
      "variable enemies OUTSIDE the function is 1\n"
     ]
    }
   ],
   "source": [
    "enemies = 1\n",
    "def increase_enemies():\n",
    "    enemies = 2\n",
    "    print (f\"variable enemies INSIDE the function is {enemies}\")\n",
    "increase_enemies()\n",
    "print (f\"variable enemies OUTSIDE the function is {enemies}\")\n"
   ]
  },
  {
   "cell_type": "code",
   "execution_count": 2,
   "id": "ef3cf806-b206-4d98-aaeb-4975b5f02f38",
   "metadata": {},
   "outputs": [
    {
     "name": "stdout",
     "output_type": "stream",
     "text": [
      "variable enemies INSIDE the function is 2\n",
      "variable enemies OUTSIDE the function is 1\n"
     ]
    }
   ],
   "source": [
    "enemies = 1\n",
    "def increase_enemies():\n",
    "    enemies = 2\n",
    "    print (f\"variable enemies INSIDE the function is {enemies}\")\n",
    "increase_enemies()\n",
    "print (f\"variable enemies OUTSIDE the function is {enemies}\")\n"
   ]
  }
 ],
 "metadata": {
  "kernelspec": {
   "display_name": "Python 3 (ipykernel)",
   "language": "python",
   "name": "python3"
  },
  "language_info": {
   "codemirror_mode": {
    "name": "ipython",
    "version": 3
   },
   "file_extension": ".py",
   "mimetype": "text/x-python",
   "name": "python",
   "nbconvert_exporter": "python",
   "pygments_lexer": "ipython3",
   "version": "3.9.4"
  }
 },
 "nbformat": 4,
 "nbformat_minor": 5
}
